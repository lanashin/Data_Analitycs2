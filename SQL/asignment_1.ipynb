{
  "nbformat": 4,
  "nbformat_minor": 0,
  "metadata": {
    "colab": {
      "name": "Untitled5.ipynb",
      "provenance": [],
      "authorship_tag": "ABX9TyNeoAEVDBC4OGb1W3m8RulI",
      "include_colab_link": true
    },
    "kernelspec": {
      "name": "python3",
      "display_name": "Python 3"
    },
    "language_info": {
      "name": "python"
    }
  },
  "cells": [
    {
      "cell_type": "markdown",
      "metadata": {
        "id": "view-in-github",
        "colab_type": "text"
      },
      "source": [
        "<a href=\"https://colab.research.google.com/github/lanashin/Data_Analitycs2/blob/main/SQL/asignment_1.ipynb\" target=\"_parent\"><img src=\"https://colab.research.google.com/assets/colab-badge.svg\" alt=\"Open In Colab\"/></a>"
      ]
    },
    {
      "cell_type": "markdown",
      "metadata": {
        "id": "mUyc0OK0ABkF"
      },
      "source": [
        "#### Name: Lana Shindler\n",
        "\n",
        "SQL, SELECT, WHERE, DISTINCT practice"
      ]
    },
    {
      "cell_type": "markdown",
      "metadata": {
        "id": "GKwNZkNiAj2b"
      },
      "source": [
        "1. Write a select statement to return all columns and rows from the customer table.\n",
        "\n",
        "  Answer: SELECT * FROM customer;"
      ]
    },
    {
      "cell_type": "markdown",
      "metadata": {
        "id": "wzzID0hxAwYK"
      },
      "source": [
        "2. Write a query to select first name, last name, and email form customer tabel. \n",
        "\n",
        "  Answer: SELECT first_name, last_name, email FROM customer;"
      ]
    },
    {
      "cell_type": "markdown",
      "metadata": {
        "id": "6SjgS2tTAV8v"
      },
      "source": [
        "3. Write a query to return all rows and from film table.\n",
        "\n",
        "  Answer: SELECT * FROM film;"
      ]
    },
    {
      "cell_type": "markdown",
      "metadata": {
        "id": "BJWfpZN24pVv"
      },
      "source": [
        "4. Write a query to return unique rows from the release_year column in the film table.\n",
        "\n",
        "  Answer: SELECT DISTINCT release_year FROM film;"
      ]
    },
    {
      "cell_type": "markdown",
      "metadata": {
        "id": "VNsuCSJT5DiT"
      },
      "source": [
        "5. Write a query to return unique rows from the rental_rate column in the film table.\n",
        "\n",
        "  Answer: SELECT DISTINCT rental_rate FROM film;"
      ]
    },
    {
      "cell_type": "markdown",
      "metadata": {
        "id": "3pQyBh9m5X-g"
      },
      "source": [
        "6. A customer left us some feedback about our store. Write a query to find her email address - for Nancy Thomas.\n",
        "\n",
        "    ANSWER: SELECT email FROM customer WHERE first_name = 'Nancy';"
      ]
    },
    {
      "cell_type": "markdown",
      "metadata": {
        "id": "hQKycV3U5uxK"
      },
      "source": [
        "7. We're trying to find customer located at a certain address '259 ipoh Drive' - can you find thier phone number?\n",
        "\n",
        "  Answer: SELECT phone FROM address WHERE address = '259 Ipoh Drive';"
      ]
    },
    {
      "cell_type": "markdown",
      "metadata": {
        "id": "sRJ9hTml5_GR"
      },
      "source": [
        "8. Write a query from the cusotmer table, where store id is 1 and address id is greater than 150.\n",
        "\n",
        "  Answer: SELECT * FROM customer WHERE store_id = 1 AND address_id > 150;"
      ]
    },
    {
      "cell_type": "markdown",
      "metadata": {
        "id": "cFPu1tum6UKk"
      },
      "source": [
        "9. Write a query from the payment table where the amount is either 4.99 or 1.99\n",
        "\n",
        "  Answer: SELECT * FROM payment WHERE amount = 4.99 OR amount = 1.99;"
      ]
    },
    {
      "cell_type": "markdown",
      "metadata": {
        "id": "FKf67Ate6fgx"
      },
      "source": [
        "10. Write a query to return a list of transitions form payment table where the amount is greater than 5.\n",
        "\n",
        "  Answer: SELECT * FROM payment WHERE amount >5;\n"
      ]
    }
  ]
}