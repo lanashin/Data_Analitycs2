{
  "nbformat": 4,
  "nbformat_minor": 0,
  "metadata": {
    "colab": {
      "name": "Untitled6.ipynb",
      "provenance": [],
      "authorship_tag": "ABX9TyOkS1P1D6rrwD9jkeRAQF0s",
      "include_colab_link": true
    },
    "kernelspec": {
      "name": "python3",
      "display_name": "Python 3"
    },
    "language_info": {
      "name": "python"
    }
  },
  "cells": [
    {
      "cell_type": "markdown",
      "metadata": {
        "id": "view-in-github",
        "colab_type": "text"
      },
      "source": [
        "<a href=\"https://colab.research.google.com/github/lanashin/Data_Analitycs2/blob/main/SQL/joins_and_unions.ipynb\" target=\"_parent\"><img src=\"https://colab.research.google.com/assets/colab-badge.svg\" alt=\"Open In Colab\"/></a>"
      ]
    },
    {
      "cell_type": "markdown",
      "metadata": {
        "id": "xlB4SymkAx4k"
      },
      "source": [
        "### Name: Lana Shindler \n",
        "\n",
        "Joins and Unions"
      ]
    },
    {
      "cell_type": "markdown",
      "metadata": {
        "id": "f-AYisfyA6c9"
      },
      "source": [
        "1. Join the film to the film_actor table.\n",
        "\n",
        "  Answer: SELECT film.film_id, film.tittle, film.description, film.release_year, film.language_id, film.rental_duration, film.rental_rate, film.length, film.replacement_cost, film.rating, film.last_update, film.special_features, film.fulltext, actor_id\n",
        "  FROM film\n",
        "  FULL JOIN film_actor\n",
        "  ON film.film_id = film_actor.film_id;"
      ]
    },
    {
      "cell_type": "markdown",
      "metadata": {
        "id": "lvG7OUu0BKbe"
      },
      "source": [
        "2. Join the actor to the film_actor table.\n",
        "\n",
        "  Answer: SELECT actor.actor_id, actor.first_name, actor.last_name, actor.last_update, film_actor.film_id\n",
        "  FROM actor\n",
        "  FULL JOIN film_actor\n",
        "  ON actor.actor_id = film_actor.actor_id;\n"
      ]
    },
    {
      "cell_type": "markdown",
      "metadata": {
        "id": "1AGLzusdBSL7"
      },
      "source": [
        "3. Try to join the actor, film_actor and film table together.\n",
        "\n",
        "  Answer: SELECT film.film_id, film.title, film.description, film.release_year, film.language_id, film.rental_duration, film.rental_rate, film.length, film.replacement_cost, film.rating, film.last_update, film.special_features, film.fulltext, film_actor.actor_id, actor.first_name, actor.last_name\n",
        "  FROM film AS film\n",
        "  FULL JOIN\n",
        "  film_actor as film_act_actor.film_id\n",
        "  FULL JOIN\n",
        "  actor AS actor\n",
        "  ON film_actor.last_update = actor.last_update;"
      ]
    }
  ]
}