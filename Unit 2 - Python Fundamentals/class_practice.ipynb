{
  "nbformat": 4,
  "nbformat_minor": 0,
  "metadata": {
    "colab": {
      "name": "Untitled3.ipynb",
      "provenance": [],
      "authorship_tag": "ABX9TyNMLOsfZf/px2fU7EWwWSHT",
      "include_colab_link": true
    },
    "kernelspec": {
      "name": "python3",
      "display_name": "Python 3"
    },
    "language_info": {
      "name": "python"
    }
  },
  "cells": [
    {
      "cell_type": "markdown",
      "metadata": {
        "id": "view-in-github",
        "colab_type": "text"
      },
      "source": [
        "<a href=\"https://colab.research.google.com/github/lanashin/Data_Analitycs2/blob/main/Unit%202%20-%20Python%20Fundamentals/class_practice.ipynb\" target=\"_parent\"><img src=\"https://colab.research.google.com/assets/colab-badge.svg\" alt=\"Open In Colab\"/></a>"
      ]
    },
    {
      "cell_type": "code",
      "metadata": {
        "colab": {
          "base_uri": "https://localhost:8080/"
        },
        "id": "XbU1596av36R",
        "outputId": "bf02bb76-ee65-4db1-b417-ec1f33c76a45"
      },
      "source": [
        "#Create a simple function that takes in a value age and prints it  \n",
        "\n",
        "def my_function(age):\n",
        "  print(\"I'm \"+ age + \" years old\" )\n",
        "age('34')"
      ],
      "execution_count": null,
      "outputs": [
        {
          "output_type": "stream",
          "text": [
            "I'm 34 years old\n"
          ],
          "name": "stdout"
        }
      ]
    },
    {
      "cell_type": "code",
      "metadata": {
        "id": "djB3ix206zFM",
        "colab": {
          "base_uri": "https://localhost:8080/"
        },
        "outputId": "6c4282a9-9106-4d08-a893-60f8a0aea19a"
      },
      "source": [
        "#multiple function calls \n",
        "def greeting(first_name, last_name, age):\n",
        "  print('My name is ' + first_name + '' + last_name)\n",
        "  print('I am ' + str(age) +\", years old\")\n",
        "\n",
        "greeting ('Lana', 'Dan', 30)\n",
        "greeting ('Nick', ' Liel', 20)"
      ],
      "execution_count": 14,
      "outputs": [
        {
          "output_type": "stream",
          "text": [
            "My name is LanaDan\n",
            "I am 30, years old\n",
            "My name is Nick Liel\n",
            "I am 20, years old\n"
          ],
          "name": "stdout"
        }
      ]
    },
    {
      "cell_type": "code",
      "metadata": {
        "colab": {
          "base_uri": "https://localhost:8080/"
        },
        "id": "LAtA1szrIq-G",
        "outputId": "a40b4e07-6c57-454a-9573-1b9cc5399f39"
      },
      "source": [
        "def task (name, city, hospital):\n",
        "  print('Hello my name is '+ name+ ' and I was born in ' + city + \", hospital name: \"+ hospital)\n",
        "task ('Nicholas','New York', 'Coney')"
      ],
      "execution_count": 19,
      "outputs": [
        {
          "output_type": "stream",
          "text": [
            "Hello my name is Nicholas and I was born in New York, hospital name: Coney\n"
          ],
          "name": "stdout"
        }
      ]
    }
  ]
}