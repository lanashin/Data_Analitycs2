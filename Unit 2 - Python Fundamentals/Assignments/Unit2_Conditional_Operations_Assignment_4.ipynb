{
  "nbformat": 4,
  "nbformat_minor": 0,
  "metadata": {
    "colab": {
      "name": "Unit2_Conditional_Operations_Assignment_4.ipynb",
      "provenance": [],
      "collapsed_sections": [],
      "include_colab_link": true
    },
    "kernelspec": {
      "name": "python3",
      "display_name": "Python 3"
    }
  },
  "cells": [
    {
      "cell_type": "markdown",
      "metadata": {
        "id": "view-in-github",
        "colab_type": "text"
      },
      "source": [
        "<a href=\"https://colab.research.google.com/github/lanashin/Data_Analitycs2/blob/main/Unit%202%20-%20Python%20Fundamentals/Assignments/Unit2_Conditional_Operations_Assignment_4.ipynb\" target=\"_parent\"><img src=\"https://colab.research.google.com/assets/colab-badge.svg\" alt=\"Open In Colab\"/></a>"
      ]
    },
    {
      "cell_type": "markdown",
      "metadata": {
        "id": "Vgs8Kp4TidFQ"
      },
      "source": [
        "# Intrdouction to Python - Conditional Operations Assignment #4\n",
        "\n",
        "## If-elif-else Statements "
      ]
    },
    {
      "cell_type": "markdown",
      "metadata": {
        "id": "_Hq7Ny79iwgD"
      },
      "source": [
        "## 1.\tMake a list of 5 or more usernames, including an admin account.  Imagine you are writing code that will welcome people to your application on login. Loop through the list and print your greeting.\n",
        "\n",
        "a.\tIf the admin account logs in, give them a special greeting.  They’re the admin, after all!\n",
        "\n",
        "b.\tOther users can get the generic greeting\n",
        "\n"
      ]
    },
    {
      "cell_type": "code",
      "metadata": {
        "id": "oNXY-CfrlLbE",
        "outputId": "944a126f-08e4-4ebe-a46f-3420190260b2",
        "colab": {
          "base_uri": "https://localhost:8080/"
        }
      },
      "source": [
        "#practicing multiple condition\n",
        "usernames = ['Lola', 'gaga', 'dada', 'Liat', 'Noa']\n",
        "for admin in usernames:\n",
        "  if admin == 'Liat':\n",
        "    print('Hello ' + admin.title()+ ', great to see the admin in the group')\n",
        "  else: \n",
        "    print('Hello ' + admin.title()+ ', welcome back to our group')"
      ],
      "execution_count": 34,
      "outputs": [
        {
          "output_type": "stream",
          "text": [
            "Hello Lola, welcome back to our group\n",
            "Hello Gaga, welcome back to our group\n",
            "Hello Dada, welcome back to our group\n",
            "Hello Liat, great to see the admin in the group\n",
            "Hello Noa, welcome back to our group\n"
          ],
          "name": "stdout"
        }
      ]
    },
    {
      "cell_type": "code",
      "metadata": {
        "id": "TuD1O2R0nvTd"
      },
      "source": [
        ""
      ],
      "execution_count": null,
      "outputs": []
    },
    {
      "cell_type": "code",
      "metadata": {
        "id": "1uWxo8AxnvVN"
      },
      "source": [
        ""
      ],
      "execution_count": null,
      "outputs": []
    },
    {
      "cell_type": "code",
      "metadata": {
        "id": "32ld2T0onvZE"
      },
      "source": [
        ""
      ],
      "execution_count": null,
      "outputs": []
    },
    {
      "cell_type": "code",
      "metadata": {
        "id": "DGwOthAbnvaw"
      },
      "source": [
        ""
      ],
      "execution_count": null,
      "outputs": []
    },
    {
      "cell_type": "code",
      "metadata": {
        "id": "6_iDEhq5nvd8"
      },
      "source": [
        ""
      ],
      "execution_count": null,
      "outputs": []
    },
    {
      "cell_type": "markdown",
      "metadata": {
        "id": "io_27RSlizno"
      },
      "source": [
        "## 2.\tStore numbers 1-10 in a list\n",
        "\n",
        "a.\tLoop through the list\n",
        "\n",
        "b.\tUse an if-elif-else chain inside your loop to print the ordinal ending for each number – for example – 1st, 2nd, 3rd … etc.\n",
        "\n"
      ]
    },
    {
      "cell_type": "code",
      "metadata": {
        "id": "Dh1o5cAylSHB",
        "outputId": "af888d06-76c7-4845-feef-70cf607678cf",
        "colab": {
          "base_uri": "https://localhost:8080/"
        }
      },
      "source": [
        "for num in range(1,10):\n",
        "  print(num)"
      ],
      "execution_count": 35,
      "outputs": [
        {
          "output_type": "stream",
          "text": [
            "1\n",
            "2\n",
            "3\n",
            "4\n",
            "5\n",
            "6\n",
            "7\n",
            "8\n",
            "9\n"
          ],
          "name": "stdout"
        }
      ]
    },
    {
      "cell_type": "code",
      "metadata": {
        "id": "vs8ppR-wlSKL",
        "outputId": "525331a6-9ae4-4221-b412-06d8febd66e1",
        "colab": {
          "base_uri": "https://localhost:8080/"
        }
      },
      "source": [
        "nums = list(range(1,11))\n",
        "print(nums)"
      ],
      "execution_count": 36,
      "outputs": [
        {
          "output_type": "stream",
          "text": [
            "[1, 2, 3, 4, 5, 6, 7, 8, 9, 10]\n"
          ],
          "name": "stdout"
        }
      ]
    },
    {
      "cell_type": "code",
      "metadata": {
        "id": "5mkKtxzunuqc",
        "outputId": "7f91198c-de4a-4d3d-c29d-715e616e6e2b",
        "colab": {
          "base_uri": "https://localhost:8080/"
        }
      },
      "source": [
        "nums = list(range(1,11))\n",
        "for num in nums:\n",
        "  if num == 1:\n",
        "    print('1st')\n",
        "  elif num == 2:\n",
        "    print('2nd')\n",
        "  elif num == 3:\n",
        "    print ('3rd')\n",
        "  else:\n",
        "    print(str(num) + 'th')"
      ],
      "execution_count": 40,
      "outputs": [
        {
          "output_type": "stream",
          "text": [
            "1st\n",
            "2nd\n",
            "3rd\n",
            "4th\n",
            "5th\n",
            "6th\n",
            "7th\n",
            "8th\n",
            "9th\n",
            "10th\n"
          ],
          "name": "stdout"
        }
      ]
    },
    {
      "cell_type": "code",
      "metadata": {
        "id": "rmfPnI5onutd"
      },
      "source": [
        ""
      ],
      "execution_count": null,
      "outputs": []
    },
    {
      "cell_type": "code",
      "metadata": {
        "id": "6000qDkVnuxM"
      },
      "source": [
        ""
      ],
      "execution_count": null,
      "outputs": []
    },
    {
      "cell_type": "code",
      "metadata": {
        "id": "X2X4dTbfnu0M"
      },
      "source": [
        ""
      ],
      "execution_count": null,
      "outputs": []
    }
  ]
}