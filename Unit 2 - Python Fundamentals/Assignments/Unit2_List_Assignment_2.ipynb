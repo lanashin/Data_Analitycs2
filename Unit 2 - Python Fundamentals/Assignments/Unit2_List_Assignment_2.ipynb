{
  "nbformat": 4,
  "nbformat_minor": 0,
  "metadata": {
    "colab": {
      "name": "Unit2_List_Assignment_2.ipynb",
      "provenance": [],
      "collapsed_sections": [],
      "include_colab_link": true
    },
    "kernelspec": {
      "name": "python3",
      "display_name": "Python 3"
    }
  },
  "cells": [
    {
      "cell_type": "markdown",
      "metadata": {
        "id": "view-in-github",
        "colab_type": "text"
      },
      "source": [
        "<a href=\"https://colab.research.google.com/github/lanashin/Data_Analitycs2/blob/main/Unit%202%20-%20Python%20Fundamentals/Assignments/Unit2_List_Assignment_2.ipynb\" target=\"_parent\"><img src=\"https://colab.research.google.com/assets/colab-badge.svg\" alt=\"Open In Colab\"/></a>"
      ]
    },
    {
      "cell_type": "markdown",
      "metadata": {
        "id": "Vgs8Kp4TidFQ"
      },
      "source": [
        "# Intrdouction to Python - List - Assingment #2  "
      ]
    },
    {
      "cell_type": "markdown",
      "metadata": {
        "id": "_Hq7Ny79iwgD"
      },
      "source": [
        "## 1.Create a list of 5 of your favorite tv shows.  ?"
      ]
    },
    {
      "cell_type": "code",
      "metadata": {
        "id": "lotvpVpvlKsR",
        "outputId": "c89fec33-9dce-4197-d26a-2602fe3d47e3",
        "colab": {
          "base_uri": "https://localhost:8080/"
        }
      },
      "source": [
        "shows = ['friends', 'big bang', 'stisel', 'girls', 'good place']\n",
        "print(shows)"
      ],
      "execution_count": 10,
      "outputs": [
        {
          "output_type": "stream",
          "text": [
            "['friends', 'big bang', 'stisel', 'girls', 'good place']\n"
          ],
          "name": "stdout"
        }
      ]
    },
    {
      "cell_type": "code",
      "metadata": {
        "id": "oNXY-CfrlLbE"
      },
      "source": [
        ""
      ],
      "execution_count": 10,
      "outputs": []
    },
    {
      "cell_type": "markdown",
      "metadata": {
        "id": "io_27RSlizno"
      },
      "source": [
        "## 2.\tPrint the list in its original order"
      ]
    },
    {
      "cell_type": "code",
      "metadata": {
        "id": "Dh1o5cAylSHB",
        "outputId": "f271524d-d2cb-4920-da5a-0e9ff6a905c1",
        "colab": {
          "base_uri": "https://localhost:8080/"
        }
      },
      "source": [
        "print(shows)"
      ],
      "execution_count": 11,
      "outputs": [
        {
          "output_type": "stream",
          "text": [
            "['friends', 'big bang', 'stisel', 'girls', 'good place']\n"
          ],
          "name": "stdout"
        }
      ]
    },
    {
      "cell_type": "code",
      "metadata": {
        "id": "vs8ppR-wlSKL"
      },
      "source": [
        ""
      ],
      "execution_count": 11,
      "outputs": []
    },
    {
      "cell_type": "markdown",
      "metadata": {
        "id": "DAW8m8IQjRyR"
      },
      "source": [
        "## 3.\tUse the sorted() function to print the list in alphabetical order.  How is sorted() different from sort()?"
      ]
    },
    {
      "cell_type": "code",
      "metadata": {
        "id": "guULMEhrjYtT",
        "outputId": "01c0290f-ba30-471c-ebf5-dfd23ea9dff6",
        "colab": {
          "base_uri": "https://localhost:8080/"
        }
      },
      "source": [
        "shows.sort()\n",
        "print(shows)"
      ],
      "execution_count": 12,
      "outputs": [
        {
          "output_type": "stream",
          "text": [
            "['big bang', 'friends', 'girls', 'good place', 'stisel']\n"
          ],
          "name": "stdout"
        }
      ]
    },
    {
      "cell_type": "code",
      "metadata": {
        "id": "cv946RaOjw-G"
      },
      "source": [
        ""
      ],
      "execution_count": 12,
      "outputs": []
    },
    {
      "cell_type": "markdown",
      "metadata": {
        "id": "dpa_YOt4jXyo"
      },
      "source": [
        "## 4.\tPrint out your original list."
      ]
    },
    {
      "cell_type": "code",
      "metadata": {
        "id": "pltxfnh3iJLW",
        "outputId": "0899bbaf-e8f3-4a6c-fe57-533497c467a6",
        "colab": {
          "base_uri": "https://localhost:8080/"
        }
      },
      "source": [
        "shows = ['friends', 'big bang', 'stisel', 'girls', 'good place']\n",
        "print(shows)"
      ],
      "execution_count": 13,
      "outputs": [
        {
          "output_type": "stream",
          "text": [
            "['friends', 'big bang', 'stisel', 'girls', 'good place']\n"
          ],
          "name": "stdout"
        }
      ]
    },
    {
      "cell_type": "code",
      "metadata": {
        "id": "PzH5Rcn-jwPL"
      },
      "source": [
        ""
      ],
      "execution_count": 13,
      "outputs": []
    },
    {
      "cell_type": "markdown",
      "metadata": {
        "id": "Ka84RGy4jmLT"
      },
      "source": [
        "## 5.\tUsed sorted() to print your list in reverse alphabetical order."
      ]
    },
    {
      "cell_type": "code",
      "metadata": {
        "id": "34IFFtK4jrg4",
        "outputId": "7383d927-db3b-4769-8331-67ae7380e423",
        "colab": {
          "base_uri": "https://localhost:8080/"
        }
      },
      "source": [
        "#sorting list in reverse\n",
        "print(shows)\n",
        "shows.sort(reverse = True)\n",
        "print(shows)"
      ],
      "execution_count": 18,
      "outputs": [
        {
          "output_type": "stream",
          "text": [
            "['friends', 'big bang', 'stisel', 'girls', 'good place']\n",
            "['stisel', 'good place', 'girls', 'friends', 'big bang']\n"
          ],
          "name": "stdout"
        }
      ]
    },
    {
      "cell_type": "code",
      "metadata": {
        "id": "M17RfxQljvqb"
      },
      "source": [
        ""
      ],
      "execution_count": 13,
      "outputs": []
    },
    {
      "cell_type": "code",
      "metadata": {
        "id": "4agTp_Cyju4-"
      },
      "source": [
        ""
      ],
      "execution_count": 13,
      "outputs": []
    },
    {
      "cell_type": "markdown",
      "metadata": {
        "id": "ZKHwdMnLliFy"
      },
      "source": [
        "## 6.\tCreate a message indicating how many favorite TV shows you have – use the len() function."
      ]
    },
    {
      "cell_type": "code",
      "metadata": {
        "id": "eXUDZfLOllTT",
        "outputId": "49d6c456-1e48-494c-fd3e-446d33e693a7",
        "colab": {
          "base_uri": "https://localhost:8080/"
        }
      },
      "source": [
        "print(shows)\n",
        "len(shows)\n",
        "message = \"I have \" + str(len(shows)) + \" favorite tv shows\"\n",
        "print(message)"
      ],
      "execution_count": 19,
      "outputs": [
        {
          "output_type": "stream",
          "text": [
            "['stisel', 'good place', 'girls', 'friends', 'big bang']\n",
            "I have 5 favorite tv shows\n"
          ],
          "name": "stdout"
        }
      ]
    },
    {
      "cell_type": "code",
      "metadata": {
        "id": "mu9vIPeEEyvT"
      },
      "source": [
        ""
      ],
      "execution_count": null,
      "outputs": []
    },
    {
      "cell_type": "code",
      "metadata": {
        "id": "4oNKGU70llVg"
      },
      "source": [
        ""
      ],
      "execution_count": 13,
      "outputs": []
    },
    {
      "cell_type": "code",
      "metadata": {
        "id": "jjh2GdktllZY",
        "outputId": "d6d39e5e-b173-4c3f-c106-e58248bfa253",
        "colab": {
          "base_uri": "https://localhost:8080/"
        }
      },
      "source": [
        "shows = ['friends', 'big bang', 'stisel', 'girls', 'good place']\n",
        "print(sorted(shows))\n",
        "print(shows)"
      ],
      "execution_count": 17,
      "outputs": [
        {
          "output_type": "stream",
          "text": [
            "['big bang', 'friends', 'girls', 'good place', 'stisel']\n",
            "['friends', 'big bang', 'stisel', 'girls', 'good place']\n"
          ],
          "name": "stdout"
        }
      ]
    },
    {
      "cell_type": "code",
      "metadata": {
        "id": "iHaRIrt8llcd",
        "outputId": "30565f66-91ba-429a-889d-f3b25ec6b190",
        "colab": {
          "base_uri": "https://localhost:8080/"
        }
      },
      "source": [
        "#to print the last element in original list\n",
        "print(shows[-1])\n",
        "#to print the last element in sorted array list\n",
        "print(sorted(shows)[-1])"
      ],
      "execution_count": 15,
      "outputs": [
        {
          "output_type": "stream",
          "text": [
            "good place\n",
            "stisel\n"
          ],
          "name": "stdout"
        }
      ]
    }
  ]
}