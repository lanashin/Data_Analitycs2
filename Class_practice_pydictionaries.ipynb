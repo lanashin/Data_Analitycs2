{
  "nbformat": 4,
  "nbformat_minor": 0,
  "metadata": {
    "colab": {
      "name": "Untitled2.ipynb",
      "provenance": [],
      "authorship_tag": "ABX9TyPZebj6PUAvi4JI34LrG1yP",
      "include_colab_link": true
    },
    "kernelspec": {
      "name": "python3",
      "display_name": "Python 3"
    },
    "language_info": {
      "name": "python"
    }
  },
  "cells": [
    {
      "cell_type": "markdown",
      "metadata": {
        "id": "view-in-github",
        "colab_type": "text"
      },
      "source": [
        "<a href=\"https://colab.research.google.com/github/lanashin/Data_Analitycs2/blob/main/Class_practice_pydictionaries.ipynb\" target=\"_parent\"><img src=\"https://colab.research.google.com/assets/colab-badge.svg\" alt=\"Open In Colab\"/></a>"
      ]
    },
    {
      "cell_type": "code",
      "metadata": {
        "colab": {
          "base_uri": "https://localhost:8080/"
        },
        "id": "6Zas43mtcKXp",
        "outputId": "6b7469b9-b08d-425f-919d-07bf6dbd1d1d"
      },
      "source": [
        "#accessing values\n",
        "patient_1 = {'first_name': 'Lana', 'last_name': 'Shindler'}\n",
        "print(patient_1['first_name'])\n",
        "print(patient_1['last_name'])"
      ],
      "execution_count": 3,
      "outputs": [
        {
          "output_type": "stream",
          "text": [
            "Lana\n",
            "Shindler\n"
          ],
          "name": "stdout"
        }
      ]
    },
    {
      "cell_type": "code",
      "metadata": {
        "colab": {
          "base_uri": "https://localhost:8080/"
        },
        "id": "p0PJYbYMc4sx",
        "outputId": "047893da-4838-4d1a-ea08-b37fe3dec913"
      },
      "source": [
        "#accessing dictionaries\n",
        "patient_name = patient_1['first_name']\n",
        "print('Hello there,'+ patient_name)"
      ],
      "execution_count": 4,
      "outputs": [
        {
          "output_type": "stream",
          "text": [
            "Hello there,Lana\n"
          ],
          "name": "stdout"
        }
      ]
    },
    {
      "cell_type": "code",
      "metadata": {
        "colab": {
          "base_uri": "https://localhost:8080/"
        },
        "id": "CgfNa49IddU8",
        "outputId": "d3b20f4e-b810-4754-85ed-051fd1869479"
      },
      "source": [
        "#add new key-value\n",
        "#if you type print(patient_1) it will ran all the info in one line \n",
        "#if you write dictionary name only, it will seperate it by key-value\n",
        "patient_1['MRN'] = '0000000'\n",
        "patient_1['last_exam'] = 'echo'\n",
        "patient_1"
      ],
      "execution_count": 7,
      "outputs": [
        {
          "output_type": "execute_result",
          "data": {
            "text/plain": [
              "{'MRN': '0000000',\n",
              " 'first_name': 'Lana',\n",
              " 'last_exam': 'echo',\n",
              " 'last_name': 'Shindler'}"
            ]
          },
          "metadata": {},
          "execution_count": 7
        }
      ]
    },
    {
      "cell_type": "code",
      "metadata": {
        "colab": {
          "base_uri": "https://localhost:8080/"
        },
        "id": "iBOzNwHNeNz8",
        "outputId": "b83c5ca4-4098-4945-f062-da1011f6955b"
      },
      "source": [
        "#creating new dictionary \n",
        "patient_2 = {}\n",
        "#add key-value starting with dictionary name\n",
        "patient_2['first_name'] = 'Vika'\n",
        "patient_2['last_name'] = 'Gaga'\n",
        "patient_2"
      ],
      "execution_count": 8,
      "outputs": [
        {
          "output_type": "execute_result",
          "data": {
            "text/plain": [
              "{'first_name': 'Vika', 'last_name': 'Gaga'}"
            ]
          },
          "metadata": {},
          "execution_count": 8
        }
      ]
    },
    {
      "cell_type": "code",
      "metadata": {
        "colab": {
          "base_uri": "https://localhost:8080/"
        },
        "id": "e5VliRoye_c6",
        "outputId": "f9c2355a-a181-4e21-a6d9-28dbbd5b4b2f"
      },
      "source": [
        "#deleting key-value pair \n",
        "del patient_2['last_name']\n",
        "print(patient_2)"
      ],
      "execution_count": 10,
      "outputs": [
        {
          "output_type": "stream",
          "text": [
            "{'first_name': 'Vika'}\n"
          ],
          "name": "stdout"
        }
      ]
    },
    {
      "cell_type": "code",
      "metadata": {
        "colab": {
          "base_uri": "https://localhost:8080/"
        },
        "id": "jhTBU4WLmAdL",
        "outputId": "0b40f2e3-5e73-49fd-f57e-2103e72047a5"
      },
      "source": [
        "patient_3 = {\n",
        "    'first_name': 'Lana',\n",
        "    \"last_name\":'Nicholas',\n",
        "    'DOB': '02091997',\n",
        "    'borough': 'Brooklyn'\n",
        "}\n",
        "patient_3"
      ],
      "execution_count": 13,
      "outputs": [
        {
          "output_type": "execute_result",
          "data": {
            "text/plain": [
              "{'DOB': '02091997',\n",
              " 'borough': 'Brooklyn',\n",
              " 'first_name': 'Lana',\n",
              " 'last_name': 'Nicholas'}"
            ]
          },
          "metadata": {},
          "execution_count": 13
        }
      ]
    },
    {
      "cell_type": "code",
      "metadata": {
        "colab": {
          "base_uri": "https://localhost:8080/"
        },
        "id": "nUG9cwJomq_I",
        "outputId": "df4e980b-6dc5-4c7b-9c35-5445e2b298e3"
      },
      "source": [
        "print(\"Patient's_3 date of birth is \" + patient_3['DOB'] )"
      ],
      "execution_count": 15,
      "outputs": [
        {
          "output_type": "stream",
          "text": [
            "Patient's_3 date of birth is 02091997\n"
          ],
          "name": "stdout"
        }
      ]
    }
  ]
}