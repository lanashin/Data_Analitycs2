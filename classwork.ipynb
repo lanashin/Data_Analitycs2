{
  "nbformat": 4,
  "nbformat_minor": 0,
  "metadata": {
    "colab": {
      "name": "Untitled",
      "provenance": [],
      "authorship_tag": "ABX9TyP5MS0c21AWFuVtSJu8Q2qr",
      "include_colab_link": true
    },
    "kernelspec": {
      "name": "python3",
      "display_name": "Python 3"
    },
    "language_info": {
      "name": "python"
    }
  },
  "cells": [
    {
      "cell_type": "markdown",
      "metadata": {
        "id": "view-in-github",
        "colab_type": "text"
      },
      "source": [
        "<a href=\"https://colab.research.google.com/github/lanashin/Data_Analitycs2/blob/main/classwork.ipynb\" target=\"_parent\"><img src=\"https://colab.research.google.com/assets/colab-badge.svg\" alt=\"Open In Colab\"/></a>"
      ]
    },
    {
      "cell_type": "code",
      "metadata": {
        "colab": {
          "base_uri": "https://localhost:8080/"
        },
        "id": "oBC8jm9Nn3Qf",
        "outputId": "1711a0ac-a1af-42b0-a0d4-18d916c97459"
      },
      "source": [
        "patient_2 = {}\n",
        "patient_2 ['first_name'] = 'Jean'\n",
        "patient_2['last_name'] = 'picard'\n",
        "print(patient_2)"
      ],
      "execution_count": null,
      "outputs": [
        {
          "output_type": "stream",
          "text": [
            "{'first_name': 'Jean', 'last_name': 'picard'}\n"
          ],
          "name": "stdout"
        }
      ]
    },
    {
      "cell_type": "code",
      "metadata": {
        "colab": {
          "base_uri": "https://localhost:8080/"
        },
        "id": "Amb_Ob7soUni",
        "outputId": "28fa7ec5-47bf-493e-8f62-524c504e27af"
      },
      "source": [
        "patient_4 = {\n",
        "    'first_name': \"Lana\",\n",
        "    'last_name':\"Shindler\",\n",
        "    'age': \"25\",\n",
        "    'city': \"Brooklyn\",\n",
        "    'cunyID': \"1234567\",\n",
        "\n",
        "}\n",
        "print(patient_4)"
      ],
      "execution_count": null,
      "outputs": [
        {
          "output_type": "stream",
          "text": [
            "{'first_name': 'Lana', 'last_name': 'Shindler', 'age': '25', 'city': 'Brooklyn', 'cunyID': '1234567'}\n"
          ],
          "name": "stdout"
        }
      ]
    },
    {
      "cell_type": "code",
      "metadata": {
        "colab": {
          "base_uri": "https://localhost:8080/"
        },
        "id": "Vopi3a5ErcFK",
        "outputId": "8a189a41-16a8-4678-b3ee-89bafd151045"
      },
      "source": [
        "student_1 = {\n",
        "    'name': \"Inbal\",\n",
        "    'age': \"43\"\n",
        "}\n",
        "student_2 = {\n",
        "    'name': \"Liora\",\n",
        "    'age': \"30\"\n",
        "}\n",
        "student_3 = {\n",
        "    'name': \"Savanna\",\n",
        "    'age': \"22\"\n",
        "}\n",
        "student_4 = {\n",
        "    'name': \"Nicholas\",\n",
        "    'age': \"4\"\n",
        "}\n",
        "student_5 = {\n",
        "    'name' : \"Topaz\",\n",
        "    'age' : \"27\"\n",
        "}\n",
        "print(student_3)"
      ],
      "execution_count": null,
      "outputs": [
        {
          "output_type": "stream",
          "text": [
            "{'name': 'Savanna', 'age': '22'}\n"
          ],
          "name": "stdout"
        }
      ]
    },
    {
      "cell_type": "code",
      "metadata": {
        "colab": {
          "base_uri": "https://localhost:8080/"
        },
        "id": "Rrc42kKFtEsg",
        "outputId": "1821118d-339b-4958-aee9-3bdebd6aed1b"
      },
      "source": [
        "print(\"Student_3 's age is \" + student_3['age'])"
      ],
      "execution_count": null,
      "outputs": [
        {
          "output_type": "stream",
          "text": [
            "Student_3 's age is 22\n"
          ],
          "name": "stdout"
        }
      ]
    },
    {
      "cell_type": "code",
      "metadata": {
        "colab": {
          "base_uri": "https://localhost:8080/"
        },
        "id": "4DsoXXhUtUV8",
        "outputId": "613cff1c-26a4-48dc-a9be-16cf279500fc"
      },
      "source": [
        "print(\"Patient's 4 last name is \" + patient_4['last_name'])"
      ],
      "execution_count": null,
      "outputs": [
        {
          "output_type": "stream",
          "text": [
            "Patient's 4 last name is Shindler\n"
          ],
          "name": "stdout"
        }
      ]
    },
    {
      "cell_type": "code",
      "metadata": {
        "colab": {
          "base_uri": "https://localhost:8080/"
        },
        "id": "knzgSoXQtnB2",
        "outputId": "714fc210-1f31-4d87-b1f2-e7fb9a947a93"
      },
      "source": [
        "print(\"Student 2's name is \"+ student_2['name'])"
      ],
      "execution_count": null,
      "outputs": [
        {
          "output_type": "stream",
          "text": [
            "Student 2's name is Liora\n"
          ],
          "name": "stdout"
        }
      ]
    },
    {
      "cell_type": "code",
      "metadata": {
        "colab": {
          "base_uri": "https://localhost:8080/"
        },
        "id": "bciBcV9GqwQH",
        "outputId": "b41bc1d4-d322-4194-ca07-e18944eba4e3"
      },
      "source": [
        "print(\"Patient_4's city is \" + patient_4['city'])"
      ],
      "execution_count": null,
      "outputs": [
        {
          "output_type": "stream",
          "text": [
            "Patient_4's DOB is Brooklyn\n"
          ],
          "name": "stdout"
        }
      ]
    },
    {
      "cell_type": "code",
      "metadata": {
        "colab": {
          "base_uri": "https://localhost:8080/"
        },
        "id": "0USUapdrxGBr",
        "outputId": "783a642e-190b-4801-e149-1391704bb71e"
      },
      "source": [
        "friends_ages = {\n",
        "    'nick': \"30\",\n",
        "    'amanda': \"34\",\n",
        "    'john': \"36\",\n",
        "    'haley' : \"26\"\n",
        "}\n",
        "\n",
        "fav_friends = ['nick', 'amanda']\n",
        "for name in friends_ages.keys():\n",
        "  print(name.title())\n",
        "\n",
        "  if name in fav_friends:\n",
        "    print(\"Hi\" + name.title() + \", i see you're \" + friends_ages[name])"
      ],
      "execution_count": null,
      "outputs": [
        {
          "output_type": "stream",
          "text": [
            "Nick\n",
            "HiNick, i see you're 30\n",
            "Amanda\n",
            "HiAmanda, i see you're 34\n",
            "John\n",
            "Haley\n"
          ],
          "name": "stdout"
        }
      ]
    },
    {
      "cell_type": "code",
      "metadata": {
        "colab": {
          "base_uri": "https://localhost:8080/"
        },
        "id": "K3iKPdw-2Z6R",
        "outputId": "0f30c09b-098b-4dfb-fa7b-c571753dae94"
      },
      "source": [
        "prompt = \"Input a message. I will repeat it until you type 'quit' \"\n",
        "\n",
        "active  = True\n",
        "while active: \n",
        "  message = input(prompt)\n",
        "\n",
        "  if message == \"quit\":\n",
        "    active = False\n",
        "\n",
        "  else:\n",
        "    print(message)"
      ],
      "execution_count": null,
      "outputs": [
        {
          "output_type": "stream",
          "text": [
            "Input a message. I will repeat it until you type 'quit' quit\n"
          ],
          "name": "stdout"
        }
      ]
    },
    {
      "cell_type": "code",
      "metadata": {
        "colab": {
          "base_uri": "https://localhost:8080/"
        },
        "id": "rY05GLqdGNsG",
        "outputId": "478a223d-98df-425f-88b0-22e386ff7ed6"
      },
      "source": [
        "def greeting_2(first_name, last_name, age):\n",
        "  \"Greets someone by first and last name\"\n",
        "  print(\"My name is \" + first_name + \" \" + last_name)\n",
        "  print(\"I am \" + str(age) + \" years old\")\n",
        "\n",
        "greeting_2(first_name = 'Paul', last_name = \"John\", age = 43)\n",
        "greeting_2(age=43, first_name = 'Paul', last_name = \"John\")"
      ],
      "execution_count": null,
      "outputs": [
        {
          "output_type": "stream",
          "text": [
            "My name is Paul John\n",
            "I am 43 years old\n",
            "My name is Paul John\n",
            "I am 43 years old\n"
          ],
          "name": "stdout"
        }
      ]
    },
    {
      "cell_type": "code",
      "metadata": {
        "id": "YLX9WsSNH2-I"
      },
      "source": [
        ""
      ],
      "execution_count": null,
      "outputs": []
    }
  ]
}